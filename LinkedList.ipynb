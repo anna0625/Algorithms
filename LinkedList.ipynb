{
 "metadata": {
  "language_info": {
   "codemirror_mode": {
    "name": "ipython",
    "version": 3
   },
   "file_extension": ".py",
   "mimetype": "text/x-python",
   "name": "python",
   "nbconvert_exporter": "python",
   "pygments_lexer": "ipython3",
   "version": 3
  },
  "orig_nbformat": 2,
  "kernelspec": {
   "name": "python_defaultSpec_1596960421577",
   "display_name": "Python 3.8.5 64-bit"
  }
 },
 "nbformat": 4,
 "nbformat_minor": 2,
 "cells": [
  {
   "cell_type": "code",
   "execution_count": 2,
   "metadata": {
    "tags": []
   },
   "outputs": [],
   "source": [
    "class Node:\n",
    "    # constructor\n",
    "    def __init__(self, value, next=None):\n",
    "        self.value = value\n",
    "        self.next = next"
   ]
  },
  {
   "cell_type": "code",
   "execution_count": 9,
   "metadata": {},
   "outputs": [],
   "source": [
    "class LinkedList:\n",
    "    def __init__(self):\n",
    "        self.head = None\n",
    "\n",
    "    # insertion method for the \"end\" of linked list\n",
    "    def insert_end(self, value):\n",
    "        newNode = Node(value)\n",
    "        if self.head:\n",
    "            current = self.head\n",
    "            while current.next != None:\n",
    "                current = current.next\n",
    "            current.next = newNode\n",
    "        else:\n",
    "            self.head = newNode\n",
    "\n",
    "    def find_recursive(self, pointer, x):\n",
    "        if pointer is None:\n",
    "            return -1\n",
    "        elif pointer.value == x:\n",
    "            return True\n",
    "        else:\n",
    "            return self.find_recursive(pointer.next, x)\n",
    "\n",
    "    # print method for the linked list\n",
    "    def __str__(self):\n",
    "         current = self.head\n",
    "         nodes = []\n",
    "         while current != None:\n",
    "             nodes.append(current.value)\n",
    "             current = current.next\n",
    "         nodes.append(\"Null\")\n",
    "         return \" -> \".join(nodes)"
   ]
  },
  {
   "cell_type": "code",
   "execution_count": 10,
   "metadata": {
    "tags": []
   },
   "outputs": [
    {
     "output_type": "stream",
     "name": "stdout",
     "text": "3 -> 4 -> 5 -> Null\nTrue\n"
    }
   ],
   "source": [
    "class Main:\n",
    "    LL = LinkedList()\n",
    "    LL.insert_end(\"3\")\n",
    "    LL.insert_end(\"4\")\n",
    "    LL.insert_end(\"5\")\n",
    "    print(LL)\n",
    "\n",
    "    # To find x = \"4\"\n",
    "    print(LL.find_recursive(LL.head, \"4\"))"
   ]
  },
  {
   "cell_type": "code",
   "execution_count": null,
   "metadata": {},
   "outputs": [],
   "source": []
  }
 ]
}