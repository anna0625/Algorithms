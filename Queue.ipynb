{
 "metadata": {
  "language_info": {
   "codemirror_mode": {
    "name": "ipython",
    "version": 3
   },
   "file_extension": ".py",
   "mimetype": "text/x-python",
   "name": "python",
   "nbconvert_exporter": "python",
   "pygments_lexer": "ipython3",
   "version": 3
  },
  "orig_nbformat": 2,
  "kernelspec": {
   "name": "python_defaultSpec_1596962251728",
   "display_name": "Python 3.8.5 64-bit"
  }
 },
 "nbformat": 4,
 "nbformat_minor": 2,
 "cells": [
  {
   "cell_type": "code",
   "execution_count": 3,
   "metadata": {},
   "outputs": [],
   "source": [
    "class Node:\n",
    "    # constructor\n",
    "    def __init__(self, value, next=None):\n",
    "        self.value = value\n",
    "        self.next = next"
   ]
  },
  {
   "cell_type": "code",
   "execution_count": 4,
   "metadata": {},
   "outputs": [],
   "source": [
    "class Stack:\n",
    "    def __init__(self):\n",
    "        self.head = None\n",
    "        #self.first = None\n",
    "        #self.last = None\n",
    "\n",
    "    # First in Last out (FILO)\n",
    "    # Add value to the front\n",
    "    def push(self, value):\n",
    "        newNode = Node(value)\n",
    "        if self.head is None:\n",
    "            self.head = Node(value)\n",
    "        else:\n",
    "            current = self.head\n",
    "            while current.next:\n",
    "                current = current.next\n",
    "            current.next = newNode\n",
    "\n",
    "    def pop(self):\n",
    "        if self.head is None:\n",
    "            return None\n",
    "        else:\n",
    "            popped = self.head.value\n",
    "            self.head = self.head.next\n",
    "            return popped\n",
    "\n",
    "    def __str__(self):\n",
    "         current = self.head\n",
    "         nodes = []\n",
    "         while current != None:\n",
    "             nodes.append(current.value)\n",
    "             current = current.next\n",
    "         nodes.append(\"None\")\n",
    "         return \" -> \".join(nodes)"
   ]
  },
  {
   "cell_type": "code",
   "execution_count": 5,
   "metadata": {
    "tags": []
   },
   "outputs": [
    {
     "output_type": "stream",
     "name": "stdout",
     "text": "push <value>, pop, quit\nPushed 10\n10 -> None\npush <value>, pop, quit\nPushed 20\n10 -> 20 -> None\npush <value>, pop, quit\nPushed 30\n10 -> 20 -> 30 -> None\npush <value>, pop, quit\n"
    }
   ],
   "source": [
    "class Main:\n",
    "    stack = Stack()\n",
    "\n",
    "    while True:\n",
    "        print('push <value>, pop, quit')\n",
    "        do = input('What would like to do? \\n').split()\n",
    "\n",
    "        operation = do[0].strip().lower()\n",
    "        if operation == 'push':\n",
    "            stack.push(do[1])\n",
    "            print(f'Pushed {do[1]}')\n",
    "            print(stack)\n",
    "        elif operation == 'pop':\n",
    "            popped = stack.pop()\n",
    "            if popped is None:\n",
    "                print('Stack is empty.')\n",
    "                break\n",
    "            else:\n",
    "                print(f'Popped value: {popped}')\n",
    "                print(stack)\n",
    "        elif operation == 'quit':\n",
    "            break"
   ]
  },
  {
   "cell_type": "code",
   "execution_count": null,
   "metadata": {},
   "outputs": [],
   "source": []
  }
 ]
}