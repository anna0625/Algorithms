{
 "metadata": {
  "language_info": {
   "codemirror_mode": {
    "name": "ipython",
    "version": 3
   },
   "file_extension": ".py",
   "mimetype": "text/x-python",
   "name": "python",
   "nbconvert_exporter": "python",
   "pygments_lexer": "ipython3",
   "version": 3
  },
  "orig_nbformat": 2,
  "kernelspec": {
   "name": "python_defaultSpec_1596941366769",
   "display_name": "Python 3.8.5 64-bit"
  }
 },
 "nbformat": 4,
 "nbformat_minor": 2,
 "cells": [
  {
   "cell_type": "code",
   "execution_count": 31,
   "metadata": {},
   "outputs": [],
   "source": [
    "# Python Tips\n",
    "# Video Link : https://www.youtube.com/watch?v=C-gEQdGVXbk&list=FLqcikxBbByUlHNJrWP0ryGA&index=2&t=151s"
   ]
  },
  {
   "cell_type": "code",
   "execution_count": 36,
   "metadata": {
    "tags": []
   },
   "outputs": [
    {
     "output_type": "stream",
     "name": "stdout",
     "text": "1\n1\n"
    }
   ],
   "source": [
    "condition = True\n",
    "\n",
    "if condition:\n",
    "    x = 1\n",
    "else:\n",
    "    x = 0\n",
    "print(x)\n",
    "\n",
    "x = 1 if condition else 0\n",
    "print(x)"
   ]
  },
  {
   "cell_type": "code",
   "execution_count": 37,
   "metadata": {
    "tags": []
   },
   "outputs": [
    {
     "output_type": "stream",
     "name": "stdout",
     "text": "num1 = 10000000000\n"
    }
   ],
   "source": [
    "num1 = 10_000_000_000\n",
    "print(f'num1 = {num1}')"
   ]
  },
  {
   "cell_type": "code",
   "execution_count": 39,
   "metadata": {
    "tags": []
   },
   "outputs": [
    {
     "output_type": "stream",
     "name": "stdout",
     "text": "7\n"
    }
   ],
   "source": [
    "with open('test.txt', 'r') as f:\n",
    "    file_contects = f.read()\n",
    "\n",
    "words = file_contects.split(\" \")\n",
    "word_count = len(words)\n",
    "print(word_count)"
   ]
  },
  {
   "cell_type": "code",
   "execution_count": 3,
   "metadata": {
    "tags": []
   },
   "outputs": [
    {
     "output_type": "stream",
     "name": "stdout",
     "text": "1 Anna\n2 Alex\n3 Tiffany\n4 Leo\n"
    }
   ],
   "source": [
    "names = ['Anna', 'Alex', 'Tiffany', 'Leo']\n",
    "\n",
    "for index, name in enumerate(names, start = 1):\n",
    "  print(index, name)"
   ]
  },
  {
   "cell_type": "code",
   "execution_count": 26,
   "metadata": {
    "tags": []
   },
   "outputs": [
    {
     "output_type": "stream",
     "name": "stdout",
     "text": "Anna is actually Batman\nAlex is actually Batman\nTiffany is actually Batman\nLeo is actually Batman\n--------------\nAnna is actually Spiderman\nAlex is actually Superman\nTiffany is actually Deadpool\nLeo is actually Batman\n--------------\n('Anna', 'Spiderman')\n('Alex', 'Superman')\n('Tiffany', 'Deadpool')\n('Leo', 'Batman')\n"
    }
   ],
   "source": [
    "names = ['Anna', 'Alex', 'Tiffany', 'Leo']\n",
    "heroes = ['Spiderman', 'Superman', 'Deadpool', 'Batman']\n",
    "\n",
    "for index, name in enumerate(names):\n",
    "  her = heroes[index]\n",
    "  print(f'{name} is actually {hero}')\n",
    "  \n",
    "print(\"--------------\")\n",
    "\n",
    "for name, hero in zip(names, heroes):\n",
    "  print(f'{name} is actually {hero}')\n",
    "\n",
    "print(\"--------------\")\n",
    "  \n",
    "for value in zip(names, heroes):\n",
    "  print(value)"
   ]
  },
  {
   "cell_type": "code",
   "execution_count": 27,
   "metadata": {
    "tags": []
   },
   "outputs": [
    {
     "output_type": "stream",
     "name": "stdout",
     "text": "Normal\n(1, 2)\nUnpacking\n1\n2\nIgnore b\n1\nMany values\n1\n2\n[3, 4, 5]\nMany values\n1\n2\n[3, 4]\n5\n"
    }
   ],
   "source": [
    "# Normal\n",
    "items = (1, 2)\n",
    "print(\"Normal\")\n",
    "print(items)\n",
    "\n",
    "# Unpacking\n",
    "a, b = (1, 2)\n",
    "print('Unpacking')\n",
    "print(a)\n",
    "print(b)\n",
    "# Ignore b\n",
    "a, _ = (1, 2)\n",
    "print(\"Ignore b\")\n",
    "print(a)\n",
    "\n",
    "a, b, *c = (1, 2, 3, 4, 5)\n",
    "print(\"Many values\")\n",
    "print(a)\n",
    "print(b)\n",
    "print(c)\n",
    "\n",
    "a, b, *c, d = (1, 2, 3, 4, 5)\n",
    "print(\"Many values\")\n",
    "print(a)\n",
    "print(b)\n",
    "print(c)\n",
    "print(d)"
   ]
  },
  {
   "cell_type": "code",
   "execution_count": 28,
   "metadata": {
    "tags": []
   },
   "outputs": [
    {
     "output_type": "stream",
     "name": "stdout",
     "text": "Anna\nAnna\n--------------\nAnna\nLeo\n--------------\nAnna\nLeo\n"
    }
   ],
   "source": [
    "class Person():\n",
    "    pass\n",
    "\n",
    "person = Person()\n",
    "\n",
    "first_key = \"first\"\n",
    "first_val = \"Anna\"\n",
    "\n",
    "setattr(person, first_key, first_val)\n",
    "print(person.first)\n",
    "\n",
    "first = getattr(person, first_key)\n",
    "print(first)\n",
    "\n",
    "print(\"--------------\")\n",
    "\n",
    "person_info = {'first': 'Anna', 'last': 'Leo'}\n",
    "\n",
    "for key, value in person_info.items():\n",
    "    setattr(person, key, value)\n",
    "print(person.first)\n",
    "print(person.last)\n",
    "\n",
    "print(\"--------------\")\n",
    "\n",
    "for key in person_info.keys():\n",
    "    print(getattr(person, key))\n"
   ]
  },
  {
   "cell_type": "code",
   "execution_count": 32,
   "metadata": {
    "tags": []
   },
   "outputs": [
    {
     "output_type": "stream",
     "name": "stdout",
     "text": "Logging In...\n"
    }
   ],
   "source": [
    "from getpass import getpass\n",
    "\n",
    "username = input(\"Username: \")\n",
    "password = getpass(\"Password: \")\n",
    "\n",
    "print('Logging In...')"
   ]
  },
  {
   "cell_type": "code",
   "execution_count": 33,
   "metadata": {},
   "outputs": [],
   "source": [
    "# $ python -m {file.name}\n",
    "\n",
    "# virtual environment\n",
    "# $ python3 -m venv machine-learning\n",
    "# $ source tutorial-env/bin/activate\n",
    "# $ deactivate"
   ]
  },
  {
   "cell_type": "code",
   "execution_count": 34,
   "metadata": {
    "tags": [
     "outputPrepend"
    ]
   },
   "outputs": [
    {
     "output_type": "stream",
     "name": "stdout",
     "text": "\n     |  \n     |  log_info(self, message, type='info')\n     |  \n     |  readable(self)\n     |  \n     |  recv(self, buffer_size)\n     |  \n     |  send(self, data)\n     |  \n     |  set_reuse_addr(self)\n     |  \n     |  set_socket(self, sock, map=None)\n     |  \n     |  writable(self)\n     |  \n     |  ----------------------------------------------------------------------\n     |  Data descriptors inherited from asyncore.dispatcher:\n     |  \n     |  __dict__\n     |      dictionary for instance variables (if defined)\n     |  \n     |  __weakref__\n     |      list of weak references to the object (if defined)\n     |  \n     |  ----------------------------------------------------------------------\n     |  Data and other attributes inherited from asyncore.dispatcher:\n     |  \n     |  accepting = False\n     |  \n     |  addr = None\n     |  \n     |  closing = False\n     |  \n     |  connected = False\n     |  \n     |  connecting = False\n     |  \n     |  debug = False\n     |  \n     |  ignore_log_types = frozenset({'warning'})\n    \n    class MailmanProxy(PureProxy)\n     |  MailmanProxy(*args, **kwargs)\n     |  \n     |  Method resolution order:\n     |      MailmanProxy\n     |      PureProxy\n     |      SMTPServer\n     |      asyncore.dispatcher\n     |      builtins.object\n     |  \n     |  Methods defined here:\n     |  \n     |  __init__(self, *args, **kwargs)\n     |      Initialize self.  See help(type(self)) for accurate signature.\n     |  \n     |  process_message(self, peer, mailfrom, rcpttos, data)\n     |      Override this abstract method to handle messages from the client.\n     |      \n     |      peer is a tuple containing (ipaddr, port) of the client that made the\n     |      socket connection to our smtp port.\n     |      \n     |      mailfrom is the raw address the client claims the message is coming\n     |      from.\n     |      \n     |      rcpttos is a list of raw addresses the client wishes to deliver the\n     |      message to.\n     |      \n     |      data is a string containing the entire full text of the message,\n     |      headers (if supplied) and all.  It has been `de-transparencied'\n     |      according to RFC 821, Section 4.5.2.  In other words, a line\n     |      containing a `.' followed by other text has had the leading dot\n     |      removed.\n     |      \n     |      kwargs is a dictionary containing additional information.  It is\n     |      empty if decode_data=True was given as init parameter, otherwise\n     |      it will contain the following keys:\n     |          'mail_options': list of parameters to the mail command.  All\n     |                          elements are uppercase strings.  Example:\n     |                          ['BODY=8BITMIME', 'SMTPUTF8'].\n     |          'rcpt_options': same, for the rcpt command.\n     |      \n     |      This function should return None for a normal `250 Ok' response;\n     |      otherwise, it should return the desired response string in RFC 821\n     |      format.\n     |  \n     |  ----------------------------------------------------------------------\n     |  Methods inherited from SMTPServer:\n     |  \n     |  handle_accepted(self, conn, addr)\n     |  \n     |  ----------------------------------------------------------------------\n     |  Data and other attributes inherited from SMTPServer:\n     |  \n     |  channel_class = <class 'smtpd.SMTPChannel'>\n     |      This is an abstract class.  You must derive from this class, and add\n     |      the two methods collect_incoming_data() and found_terminator()\n     |  \n     |  ----------------------------------------------------------------------\n     |  Methods inherited from asyncore.dispatcher:\n     |  \n     |  __repr__(self)\n     |      Return repr(self).\n     |  \n     |  accept(self)\n     |  \n     |  add_channel(self, map=None)\n     |  \n     |  bind(self, addr)\n     |  \n     |  close(self)\n     |  \n     |  connect(self, address)\n     |  \n     |  create_socket(self, family=<AddressFamily.AF_INET: 2>, type=<SocketKind.SOCK_STREAM: 1>)\n     |  \n     |  del_channel(self, map=None)\n     |  \n     |  handle_accept(self)\n     |  \n     |  handle_close(self)\n     |  \n     |  handle_connect(self)\n     |  \n     |  handle_connect_event(self)\n     |  \n     |  handle_error(self)\n     |  \n     |  handle_expt(self)\n     |  \n     |  handle_expt_event(self)\n     |  \n     |  handle_read(self)\n     |  \n     |  handle_read_event(self)\n     |  \n     |  handle_write(self)\n     |  \n     |  handle_write_event(self)\n     |  \n     |  listen(self, num)\n     |  \n     |  log(self, message)\n     |  \n     |  log_info(self, message, type='info')\n     |  \n     |  readable(self)\n     |  \n     |  recv(self, buffer_size)\n     |  \n     |  send(self, data)\n     |  \n     |  set_reuse_addr(self)\n     |  \n     |  set_socket(self, sock, map=None)\n     |  \n     |  writable(self)\n     |  \n     |  ----------------------------------------------------------------------\n     |  Data descriptors inherited from asyncore.dispatcher:\n     |  \n     |  __dict__\n     |      dictionary for instance variables (if defined)\n     |  \n     |  __weakref__\n     |      list of weak references to the object (if defined)\n     |  \n     |  ----------------------------------------------------------------------\n     |  Data and other attributes inherited from asyncore.dispatcher:\n     |  \n     |  accepting = False\n     |  \n     |  addr = None\n     |  \n     |  closing = False\n     |  \n     |  connected = False\n     |  \n     |  connecting = False\n     |  \n     |  debug = False\n     |  \n     |  ignore_log_types = frozenset({'warning'})\n    \n    class PureProxy(SMTPServer)\n     |  PureProxy(*args, **kwargs)\n     |  \n     |  Method resolution order:\n     |      PureProxy\n     |      SMTPServer\n     |      asyncore.dispatcher\n     |      builtins.object\n     |  \n     |  Methods defined here:\n     |  \n     |  __init__(self, *args, **kwargs)\n     |      Initialize self.  See help(type(self)) for accurate signature.\n     |  \n     |  process_message(self, peer, mailfrom, rcpttos, data)\n     |      Override this abstract method to handle messages from the client.\n     |      \n     |      peer is a tuple containing (ipaddr, port) of the client that made the\n     |      socket connection to our smtp port.\n     |      \n     |      mailfrom is the raw address the client claims the message is coming\n     |      from.\n     |      \n     |      rcpttos is a list of raw addresses the client wishes to deliver the\n     |      message to.\n     |      \n     |      data is a string containing the entire full text of the message,\n     |      headers (if supplied) and all.  It has been `de-transparencied'\n     |      according to RFC 821, Section 4.5.2.  In other words, a line\n     |      containing a `.' followed by other text has had the leading dot\n     |      removed.\n     |      \n     |      kwargs is a dictionary containing additional information.  It is\n     |      empty if decode_data=True was given as init parameter, otherwise\n     |      it will contain the following keys:\n     |          'mail_options': list of parameters to the mail command.  All\n     |                          elements are uppercase strings.  Example:\n     |                          ['BODY=8BITMIME', 'SMTPUTF8'].\n     |          'rcpt_options': same, for the rcpt command.\n     |      \n     |      This function should return None for a normal `250 Ok' response;\n     |      otherwise, it should return the desired response string in RFC 821\n     |      format.\n     |  \n     |  ----------------------------------------------------------------------\n     |  Methods inherited from SMTPServer:\n     |  \n     |  handle_accepted(self, conn, addr)\n     |  \n     |  ----------------------------------------------------------------------\n     |  Data and other attributes inherited from SMTPServer:\n     |  \n     |  channel_class = <class 'smtpd.SMTPChannel'>\n     |      This is an abstract class.  You must derive from this class, and add\n     |      the two methods collect_incoming_data() and found_terminator()\n     |  \n     |  ----------------------------------------------------------------------\n     |  Methods inherited from asyncore.dispatcher:\n     |  \n     |  __repr__(self)\n     |      Return repr(self).\n     |  \n     |  accept(self)\n     |  \n     |  add_channel(self, map=None)\n     |  \n     |  bind(self, addr)\n     |  \n     |  close(self)\n     |  \n     |  connect(self, address)\n     |  \n     |  create_socket(self, family=<AddressFamily.AF_INET: 2>, type=<SocketKind.SOCK_STREAM: 1>)\n     |  \n     |  del_channel(self, map=None)\n     |  \n     |  handle_accept(self)\n     |  \n     |  handle_close(self)\n     |  \n     |  handle_connect(self)\n     |  \n     |  handle_connect_event(self)\n     |  \n     |  handle_error(self)\n     |  \n     |  handle_expt(self)\n     |  \n     |  handle_expt_event(self)\n     |  \n     |  handle_read(self)\n     |  \n     |  handle_read_event(self)\n     |  \n     |  handle_write(self)\n     |  \n     |  handle_write_event(self)\n     |  \n     |  listen(self, num)\n     |  \n     |  log(self, message)\n     |  \n     |  log_info(self, message, type='info')\n     |  \n     |  readable(self)\n     |  \n     |  recv(self, buffer_size)\n     |  \n     |  send(self, data)\n     |  \n     |  set_reuse_addr(self)\n     |  \n     |  set_socket(self, sock, map=None)\n     |  \n     |  writable(self)\n     |  \n     |  ----------------------------------------------------------------------\n     |  Data descriptors inherited from asyncore.dispatcher:\n     |  \n     |  __dict__\n     |      dictionary for instance variables (if defined)\n     |  \n     |  __weakref__\n     |      list of weak references to the object (if defined)\n     |  \n     |  ----------------------------------------------------------------------\n     |  Data and other attributes inherited from asyncore.dispatcher:\n     |  \n     |  accepting = False\n     |  \n     |  addr = None\n     |  \n     |  closing = False\n     |  \n     |  connected = False\n     |  \n     |  connecting = False\n     |  \n     |  debug = False\n     |  \n     |  ignore_log_types = frozenset({'warning'})\n    \n    class SMTPChannel(asynchat.async_chat)\n     |  SMTPChannel(server, conn, addr, data_size_limit=33554432, map=None, enable_SMTPUTF8=False, decode_data=False)\n     |  \n     |  This is an abstract class.  You must derive from this class, and add\n     |  the two methods collect_incoming_data() and found_terminator()\n     |  \n     |  Method resolution order:\n     |      SMTPChannel\n     |      asynchat.async_chat\n     |      asyncore.dispatcher\n     |      builtins.object\n     |  \n     |  Methods defined here:\n     |  \n     |  __init__(self, server, conn, addr, data_size_limit=33554432, map=None, enable_SMTPUTF8=False, decode_data=False)\n     |      Initialize self.  See help(type(self)) for accurate signature.\n     |  \n     |  collect_incoming_data(self, data)\n     |      # Implementation of base class abstract method\n     |  \n     |  found_terminator(self)\n     |      # Implementation of base class abstract method\n     |  \n     |  push(self, msg)\n     |      # Overrides base class for convenience.\n     |  \n     |  smtp_DATA(self, arg)\n     |  \n     |  smtp_EHLO(self, arg)\n     |  \n     |  smtp_EXPN(self, arg)\n     |      # Commands that have not been implemented\n     |  \n     |  smtp_HELO(self, arg)\n     |      # SMTP and ESMTP commands\n     |  \n     |  smtp_HELP(self, arg)\n     |  \n     |  smtp_MAIL(self, arg)\n     |  \n     |  smtp_NOOP(self, arg)\n     |  \n     |  smtp_QUIT(self, arg)\n     |  \n     |  smtp_RCPT(self, arg)\n     |  \n     |  smtp_RSET(self, arg)\n     |  \n     |  smtp_VRFY(self, arg)\n     |  \n     |  ----------------------------------------------------------------------\n     |  Readonly properties defined here:\n     |  \n     |  max_command_size_limit\n     |  \n     |  ----------------------------------------------------------------------\n     |  Data and other attributes defined here:\n     |  \n     |  COMMAND = 0\n     |  \n     |  DATA = 1\n     |  \n     |  command_size_limit = 512\n     |  \n     |  command_size_limits = defaultdict(<function SMTPChannel.<lambda> at 0x...\n     |  \n     |  ----------------------------------------------------------------------\n     |  Methods inherited from asynchat.async_chat:\n     |  \n     |  close_when_done(self)\n     |      automatically close this channel once the outgoing queue is empty\n     |  \n     |  discard_buffers(self)\n     |  \n     |  get_terminator(self)\n     |  \n     |  handle_close(self)\n     |  \n     |  handle_read(self)\n     |  \n     |  handle_write(self)\n     |  \n     |  initiate_send(self)\n     |  \n     |  push_with_producer(self, producer)\n     |  \n     |  readable(self)\n     |      predicate for inclusion in the readable for select()\n     |  \n     |  set_terminator(self, term)\n     |      Set the input delimiter.\n     |      \n     |      Can be a fixed string of any length, an integer, or None.\n     |  \n     |  writable(self)\n     |      predicate for inclusion in the writable for select()\n     |  \n     |  ----------------------------------------------------------------------\n     |  Data and other attributes inherited from asynchat.async_chat:\n     |  \n     |  ac_in_buffer_size = 65536\n     |  \n     |  ac_out_buffer_size = 65536\n     |  \n     |  encoding = 'latin-1'\n     |  \n     |  use_encoding = 0\n     |  \n     |  ----------------------------------------------------------------------\n     |  Methods inherited from asyncore.dispatcher:\n     |  \n     |  __repr__(self)\n     |      Return repr(self).\n     |  \n     |  accept(self)\n     |  \n     |  add_channel(self, map=None)\n     |  \n     |  bind(self, addr)\n     |  \n     |  close(self)\n     |  \n     |  connect(self, address)\n     |  \n     |  create_socket(self, family=<AddressFamily.AF_INET: 2>, type=<SocketKind.SOCK_STREAM: 1>)\n     |  \n     |  del_channel(self, map=None)\n     |  \n     |  handle_accept(self)\n     |  \n     |  handle_accepted(self, sock, addr)\n     |  \n     |  handle_connect(self)\n     |  \n     |  handle_connect_event(self)\n     |  \n     |  handle_error(self)\n     |  \n     |  handle_expt(self)\n     |  \n     |  handle_expt_event(self)\n     |  \n     |  handle_read_event(self)\n     |  \n     |  handle_write_event(self)\n     |  \n     |  listen(self, num)\n     |  \n     |  log(self, message)\n     |  \n     |  log_info(self, message, type='info')\n     |  \n     |  recv(self, buffer_size)\n     |  \n     |  send(self, data)\n     |  \n     |  set_reuse_addr(self)\n     |  \n     |  set_socket(self, sock, map=None)\n     |  \n     |  ----------------------------------------------------------------------\n     |  Data descriptors inherited from asyncore.dispatcher:\n     |  \n     |  __dict__\n     |      dictionary for instance variables (if defined)\n     |  \n     |  __weakref__\n     |      list of weak references to the object (if defined)\n     |  \n     |  ----------------------------------------------------------------------\n     |  Data and other attributes inherited from asyncore.dispatcher:\n     |  \n     |  accepting = False\n     |  \n     |  addr = None\n     |  \n     |  closing = False\n     |  \n     |  connected = False\n     |  \n     |  connecting = False\n     |  \n     |  debug = False\n     |  \n     |  ignore_log_types = frozenset({'warning'})\n    \n    class SMTPServer(asyncore.dispatcher)\n     |  SMTPServer(localaddr, remoteaddr, data_size_limit=33554432, map=None, enable_SMTPUTF8=False, decode_data=False)\n     |  \n     |  Method resolution order:\n     |      SMTPServer\n     |      asyncore.dispatcher\n     |      builtins.object\n     |  \n     |  Methods defined here:\n     |  \n     |  __init__(self, localaddr, remoteaddr, data_size_limit=33554432, map=None, enable_SMTPUTF8=False, decode_data=False)\n     |      Initialize self.  See help(type(self)) for accurate signature.\n     |  \n     |  handle_accepted(self, conn, addr)\n     |  \n     |  process_message(self, peer, mailfrom, rcpttos, data, **kwargs)\n     |      Override this abstract method to handle messages from the client.\n     |      \n     |      peer is a tuple containing (ipaddr, port) of the client that made the\n     |      socket connection to our smtp port.\n     |      \n     |      mailfrom is the raw address the client claims the message is coming\n     |      from.\n     |      \n     |      rcpttos is a list of raw addresses the client wishes to deliver the\n     |      message to.\n     |      \n     |      data is a string containing the entire full text of the message,\n     |      headers (if supplied) and all.  It has been `de-transparencied'\n     |      according to RFC 821, Section 4.5.2.  In other words, a line\n     |      containing a `.' followed by other text has had the leading dot\n     |      removed.\n     |      \n     |      kwargs is a dictionary containing additional information.  It is\n     |      empty if decode_data=True was given as init parameter, otherwise\n     |      it will contain the following keys:\n     |          'mail_options': list of parameters to the mail command.  All\n     |                          elements are uppercase strings.  Example:\n     |                          ['BODY=8BITMIME', 'SMTPUTF8'].\n     |          'rcpt_options': same, for the rcpt command.\n     |      \n     |      This function should return None for a normal `250 Ok' response;\n     |      otherwise, it should return the desired response string in RFC 821\n     |      format.\n     |  \n     |  ----------------------------------------------------------------------\n     |  Data and other attributes defined here:\n     |  \n     |  channel_class = <class 'smtpd.SMTPChannel'>\n     |      This is an abstract class.  You must derive from this class, and add\n     |      the two methods collect_incoming_data() and found_terminator()\n     |  \n     |  ----------------------------------------------------------------------\n     |  Methods inherited from asyncore.dispatcher:\n     |  \n     |  __repr__(self)\n     |      Return repr(self).\n     |  \n     |  accept(self)\n     |  \n     |  add_channel(self, map=None)\n     |  \n     |  bind(self, addr)\n     |  \n     |  close(self)\n     |  \n     |  connect(self, address)\n     |  \n     |  create_socket(self, family=<AddressFamily.AF_INET: 2>, type=<SocketKind.SOCK_STREAM: 1>)\n     |  \n     |  del_channel(self, map=None)\n     |  \n     |  handle_accept(self)\n     |  \n     |  handle_close(self)\n     |  \n     |  handle_connect(self)\n     |  \n     |  handle_connect_event(self)\n     |  \n     |  handle_error(self)\n     |  \n     |  handle_expt(self)\n     |  \n     |  handle_expt_event(self)\n     |  \n     |  handle_read(self)\n     |  \n     |  handle_read_event(self)\n     |  \n     |  handle_write(self)\n     |  \n     |  handle_write_event(self)\n     |  \n     |  listen(self, num)\n     |  \n     |  log(self, message)\n     |  \n     |  log_info(self, message, type='info')\n     |  \n     |  readable(self)\n     |  \n     |  recv(self, buffer_size)\n     |  \n     |  send(self, data)\n     |  \n     |  set_reuse_addr(self)\n     |  \n     |  set_socket(self, sock, map=None)\n     |  \n     |  writable(self)\n     |  \n     |  ----------------------------------------------------------------------\n     |  Data descriptors inherited from asyncore.dispatcher:\n     |  \n     |  __dict__\n     |      dictionary for instance variables (if defined)\n     |  \n     |  __weakref__\n     |      list of weak references to the object (if defined)\n     |  \n     |  ----------------------------------------------------------------------\n     |  Data and other attributes inherited from asyncore.dispatcher:\n     |  \n     |  accepting = False\n     |  \n     |  addr = None\n     |  \n     |  closing = False\n     |  \n     |  connected = False\n     |  \n     |  connecting = False\n     |  \n     |  debug = False\n     |  \n     |  ignore_log_types = frozenset({'warning'})\n\nDATA\n    __all__ = ['SMTPChannel', 'SMTPServer', 'DebuggingServer', 'PureProxy'...\n\nVERSION\n    Python SMTP proxy version 0.3\n\nFILE\n    /usr/local/Cellar/python@3.8/3.8.5/Frameworks/Python.framework/Versions/3.8/lib/python3.8/smtpd.py\n\n\n"
    },
    {
     "output_type": "execute_result",
     "data": {
      "text/plain": "['__add__',\n '__class__',\n '__delattr__',\n '__dir__',\n '__doc__',\n '__eq__',\n '__format__',\n '__ge__',\n '__getattribute__',\n '__gt__',\n '__hash__',\n '__init__',\n '__init_subclass__',\n '__le__',\n '__lt__',\n '__ne__',\n '__new__',\n '__radd__',\n '__reduce__',\n '__reduce_ex__',\n '__repr__',\n '__rsub__',\n '__setattr__',\n '__sizeof__',\n '__str__',\n '__sub__',\n '__subclasshook__',\n 'astimezone',\n 'combine',\n 'ctime',\n 'date',\n 'day',\n 'dst',\n 'fold',\n 'fromisocalendar',\n 'fromisoformat',\n 'fromordinal',\n 'fromtimestamp',\n 'hour',\n 'isocalendar',\n 'isoformat',\n 'isoweekday',\n 'max',\n 'microsecond',\n 'min',\n 'minute',\n 'month',\n 'now',\n 'replace',\n 'resolution',\n 'second',\n 'strftime',\n 'strptime',\n 'time',\n 'timestamp',\n 'timetuple',\n 'timetz',\n 'today',\n 'toordinal',\n 'tzinfo',\n 'tzname',\n 'utcfromtimestamp',\n 'utcnow',\n 'utcoffset',\n 'utctimetuple',\n 'weekday',\n 'year']"
     },
     "metadata": {},
     "execution_count": 34
    }
   ],
   "source": [
    "import smtpd\n",
    "help(smtpd)"
   ]
  },
  {
   "cell_type": "code",
   "execution_count": 35,
   "metadata": {},
   "outputs": [
    {
     "output_type": "execute_result",
     "data": {
      "text/plain": "['__add__',\n '__class__',\n '__delattr__',\n '__dir__',\n '__doc__',\n '__eq__',\n '__format__',\n '__ge__',\n '__getattribute__',\n '__gt__',\n '__hash__',\n '__init__',\n '__init_subclass__',\n '__le__',\n '__lt__',\n '__ne__',\n '__new__',\n '__radd__',\n '__reduce__',\n '__reduce_ex__',\n '__repr__',\n '__rsub__',\n '__setattr__',\n '__sizeof__',\n '__str__',\n '__sub__',\n '__subclasshook__',\n 'astimezone',\n 'combine',\n 'ctime',\n 'date',\n 'day',\n 'dst',\n 'fold',\n 'fromisocalendar',\n 'fromisoformat',\n 'fromordinal',\n 'fromtimestamp',\n 'hour',\n 'isocalendar',\n 'isoformat',\n 'isoweekday',\n 'max',\n 'microsecond',\n 'min',\n 'minute',\n 'month',\n 'now',\n 'replace',\n 'resolution',\n 'second',\n 'strftime',\n 'strptime',\n 'time',\n 'timestamp',\n 'timetuple',\n 'timetz',\n 'today',\n 'toordinal',\n 'tzinfo',\n 'tzname',\n 'utcfromtimestamp',\n 'utcnow',\n 'utcoffset',\n 'utctimetuple',\n 'weekday',\n 'year']"
     },
     "metadata": {},
     "execution_count": 35
    }
   ],
   "source": [
    "from datetime import datetime\n",
    "dir(datetime)"
   ]
  },
  {
   "cell_type": "code",
   "execution_count": null,
   "metadata": {},
   "outputs": [],
   "source": []
  }
 ]
}